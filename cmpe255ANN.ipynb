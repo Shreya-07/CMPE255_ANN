{
  "nbformat": 4,
  "nbformat_minor": 0,
  "metadata": {
    "colab": {
      "name": "cmpe255ANN.ipynb",
      "provenance": [],
      "collapsed_sections": [],
      "toc_visible": true,
      "authorship_tag": "ABX9TyPQtaIKLtg7p0sZZUhAVz1d",
      "include_colab_link": true
    },
    "kernelspec": {
      "name": "python3",
      "display_name": "Python 3"
    },
    "language_info": {
      "name": "python"
    }
  },
  "cells": [
    {
      "cell_type": "markdown",
      "metadata": {
        "id": "view-in-github",
        "colab_type": "text"
      },
      "source": [
        "<a href=\"https://colab.research.google.com/github/Shreya-07/CMPE255_ANN/blob/main/cmpe255ANN.ipynb\" target=\"_parent\"><img src=\"https://colab.research.google.com/assets/colab-badge.svg\" alt=\"Open In Colab\"/></a>"
      ]
    },
    {
      "cell_type": "markdown",
      "metadata": {
        "id": "DX7WGsrwPzje"
      },
      "source": [
        "Preparing the Dataset"
      ]
    },
    {
      "cell_type": "code",
      "metadata": {
        "colab": {
          "base_uri": "https://localhost:8080/"
        },
        "id": "K82HQUtSP9iG",
        "outputId": "9a85b5bf-80a5-43bf-ee79-841991c48d76"
      },
      "source": [
        "!pip install lightfm\n",
        "from lightfm import LightFM\n",
        "from lightfm.datasets import fetch_stackexchange\n",
        "import pickle\n",
        "!pip install faiss-cpu\n",
        "import faiss\n"
      ],
      "execution_count": 84,
      "outputs": [
        {
          "output_type": "stream",
          "name": "stdout",
          "text": [
            "Requirement already satisfied: lightfm in /usr/local/lib/python3.7/dist-packages (1.16)\n",
            "Requirement already satisfied: scipy>=0.17.0 in /usr/local/lib/python3.7/dist-packages (from lightfm) (1.4.1)\n",
            "Requirement already satisfied: requests in /usr/local/lib/python3.7/dist-packages (from lightfm) (2.23.0)\n",
            "Requirement already satisfied: numpy in /usr/local/lib/python3.7/dist-packages (from lightfm) (1.19.5)\n",
            "Requirement already satisfied: scikit-learn in /usr/local/lib/python3.7/dist-packages (from lightfm) (1.0.1)\n",
            "Requirement already satisfied: chardet<4,>=3.0.2 in /usr/local/lib/python3.7/dist-packages (from requests->lightfm) (3.0.4)\n",
            "Requirement already satisfied: certifi>=2017.4.17 in /usr/local/lib/python3.7/dist-packages (from requests->lightfm) (2021.10.8)\n",
            "Requirement already satisfied: idna<3,>=2.5 in /usr/local/lib/python3.7/dist-packages (from requests->lightfm) (2.10)\n",
            "Requirement already satisfied: urllib3!=1.25.0,!=1.25.1,<1.26,>=1.21.1 in /usr/local/lib/python3.7/dist-packages (from requests->lightfm) (1.24.3)\n",
            "Requirement already satisfied: joblib>=0.11 in /usr/local/lib/python3.7/dist-packages (from scikit-learn->lightfm) (1.1.0)\n",
            "Requirement already satisfied: threadpoolctl>=2.0.0 in /usr/local/lib/python3.7/dist-packages (from scikit-learn->lightfm) (3.0.0)\n",
            "Requirement already satisfied: faiss-cpu in /usr/local/lib/python3.7/dist-packages (1.7.1.post2)\n"
          ]
        }
      ]
    },
    {
      "cell_type": "code",
      "metadata": {
        "id": "tDBz-fK-Quij"
      },
      "source": [
        "data = fetch_stackexchange('crossvalidated',\n",
        "                           test_set_fraction=0.1,\n",
        "                           indicator_features=False,\n",
        "                           tag_features=True)\n",
        "\n",
        "train = data['train']\n",
        "test = data['test']\n",
        "\n",
        "model = LightFM(learning_rate=0.05, loss='warp', no_components=64, item_alpha=0.001)\n",
        "model.fit_partial(train, item_features=data['item_features'], epochs=20 )\n",
        "\n",
        "item_vectors = data['item_features'] * model.item_embeddings"
      ],
      "execution_count": 85,
      "outputs": []
    },
    {
      "cell_type": "code",
      "metadata": {
        "id": "anm5GgsqSGPP"
      },
      "source": [
        "with open('stack.pickle', 'wb') as f:\n",
        "    pickle.dump({\"name\": data['item_features'], \"vector\": item_vectors}, f)"
      ],
      "execution_count": 79,
      "outputs": []
    },
    {
      "cell_type": "markdown",
      "metadata": {
        "id": "WGsd6tSESu7P"
      },
      "source": [
        "LSH - Locality Sensitive Hashing"
      ]
    },
    {
      "cell_type": "code",
      "metadata": {
        "id": "AqQFRpmrT-0R",
        "colab": {
          "base_uri": "https://localhost:8080/"
        },
        "outputId": "856d3a4b-3831-4e9b-ca02-dcd843784d6d"
      },
      "source": [
        "def load_data():\n",
        "    with open('stack.pickle', 'rb') as f:\n",
        "        data1 = pickle.load(f)\n",
        "    return data1\n",
        "\n",
        "data1 = load_data()\n",
        "data1"
      ],
      "execution_count": 80,
      "outputs": [
        {
          "output_type": "execute_result",
          "data": {
            "text/plain": [
              "{'name': <72360x1246 sparse matrix of type '<class 'numpy.float32'>'\n",
              " \twith 198963 stored elements in Compressed Sparse Row format>,\n",
              " 'vector': array([[ 0.08971766, -0.01931789, -0.39299065, ..., -0.32398626,\n",
              "         -0.04930801,  0.03139853],\n",
              "        [ 0.42719924, -0.13446862, -0.11744323, ...,  0.05327304,\n",
              "         -0.16749631, -0.5094366 ],\n",
              "        [ 0.17469001, -0.3165027 ,  0.34241223, ..., -0.10355807,\n",
              "          0.34335202,  0.18460143],\n",
              "        ...,\n",
              "        [-0.22121345, -0.7440063 ,  0.09974044, ..., -0.08692014,\n",
              "         -0.01444667,  0.30797526],\n",
              "        [ 0.5214379 , -0.11684816,  0.00835054, ...,  0.24716628,\n",
              "          0.33209053, -0.17896186],\n",
              "        [-0.18122649, -0.11276215, -0.02549529, ...,  0.76297367,\n",
              "         -0.30785683, -0.69704616]], dtype=float32)}"
            ]
          },
          "metadata": {},
          "execution_count": 80
        }
      ]
    },
    {
      "cell_type": "code",
      "metadata": {
        "id": "U8vUj4ANV4SX"
      },
      "source": [
        "class FalconIndex():\n",
        "     def __init__(self, vectors, labels):\n",
        "         self.dimention = vectors.shape[1]\n",
        "         self.vectors = vectors.astype('float32')\n",
        "         self.labels = labels\n",
        "\n",
        "\n",
        "     def build(self, number_of_partition=8, search_in_x_partitions=2, subvector_size=8):\n",
        "         quantizer = faiss.IndexFlatL2(self.dimention)\n",
        "         self.index = faiss.IndexIVFPQ(quantizer, self.dimention, number_of_partition, search_in_x_partitions, subvector_size)\n",
        "         self.index.train(self.vectors)\n",
        "         self.index.add(self.vectors)\n",
        "        \n",
        "     def query(self, vectors, k=10):\n",
        "         distances, indices = self.index.search(vectors, k) \n",
        "         return [self.labels[i] for i in indices[0]]"
      ],
      "execution_count": 81,
      "outputs": []
    },
    {
      "cell_type": "code",
      "metadata": {
        "id": "c4nM_2B6WDVP"
      },
      "source": [
        " index = IVPQIndex(data1[\"vector\"], data1[\"name\"])\n",
        " index.build()"
      ],
      "execution_count": 82,
      "outputs": []
    },
    {
      "cell_type": "code",
      "metadata": {
        "colab": {
          "base_uri": "https://localhost:8080/",
          "height": 200
        },
        "id": "U7nqAOulYWkA",
        "outputId": "f2fc2c29-cfc2-4513-cb59-4b8c620a4643"
      },
      "source": [
        " stack_vector, stack_name = data1['vector'][90:91], data1['name'][90]\n",
        " simlar_stack_names = '\\n* '.join(index.query(stack_vector))\n",
        " print(f\"The most similar questions to {stack_name} are:\\n* {simlar_stack_names}\")"
      ],
      "execution_count": 83,
      "outputs": [
        {
          "output_type": "error",
          "ename": "TypeError",
          "evalue": "ignored",
          "traceback": [
            "\u001b[0;31m---------------------------------------------------------------------------\u001b[0m",
            "\u001b[0;31mTypeError\u001b[0m                                 Traceback (most recent call last)",
            "\u001b[0;32m<ipython-input-83-3169ffc537f0>\u001b[0m in \u001b[0;36m<module>\u001b[0;34m()\u001b[0m\n\u001b[1;32m      1\u001b[0m \u001b[0mstack_vector\u001b[0m\u001b[0;34m,\u001b[0m \u001b[0mstack_name\u001b[0m \u001b[0;34m=\u001b[0m \u001b[0mdata1\u001b[0m\u001b[0;34m[\u001b[0m\u001b[0;34m'vector'\u001b[0m\u001b[0;34m]\u001b[0m\u001b[0;34m[\u001b[0m\u001b[0;36m90\u001b[0m\u001b[0;34m:\u001b[0m\u001b[0;36m91\u001b[0m\u001b[0;34m]\u001b[0m\u001b[0;34m,\u001b[0m \u001b[0mdata1\u001b[0m\u001b[0;34m[\u001b[0m\u001b[0;34m'name'\u001b[0m\u001b[0;34m]\u001b[0m\u001b[0;34m[\u001b[0m\u001b[0;36m90\u001b[0m\u001b[0;34m]\u001b[0m\u001b[0;34m\u001b[0m\u001b[0;34m\u001b[0m\u001b[0m\n\u001b[0;32m----> 2\u001b[0;31m \u001b[0msimlar_stack_names\u001b[0m \u001b[0;34m=\u001b[0m \u001b[0;34m'\\n* '\u001b[0m\u001b[0;34m.\u001b[0m\u001b[0mjoin\u001b[0m\u001b[0;34m(\u001b[0m\u001b[0mindex\u001b[0m\u001b[0;34m.\u001b[0m\u001b[0mquery\u001b[0m\u001b[0;34m(\u001b[0m\u001b[0mstack_vector\u001b[0m\u001b[0;34m)\u001b[0m\u001b[0;34m)\u001b[0m\u001b[0;34m\u001b[0m\u001b[0;34m\u001b[0m\u001b[0m\n\u001b[0m\u001b[1;32m      3\u001b[0m \u001b[0mprint\u001b[0m\u001b[0;34m(\u001b[0m\u001b[0;34mf\"The most similar questions to {stack_name} are:\\n* {simlar_stack_names}\"\u001b[0m\u001b[0;34m)\u001b[0m\u001b[0;34m\u001b[0m\u001b[0;34m\u001b[0m\u001b[0m\n",
            "\u001b[0;31mTypeError\u001b[0m: sequence item 0: expected str instance, csr_matrix found"
          ]
        }
      ]
    },
    {
      "cell_type": "markdown",
      "metadata": {
        "id": "FjoLVHwiUwTZ"
      },
      "source": [
        "HNSW - Hierarchical Navigable Small Words"
      ]
    },
    {
      "cell_type": "code",
      "metadata": {
        "colab": {
          "base_uri": "https://localhost:8080/"
        },
        "id": "_Pfd4N_pU7Ar",
        "outputId": "831ec99c-33e0-48f4-bdea-3a8b81a92959"
      },
      "source": [
        "!pip install nmslib\n",
        "import nmslib"
      ],
      "execution_count": 86,
      "outputs": [
        {
          "output_type": "stream",
          "name": "stdout",
          "text": [
            "Requirement already satisfied: nmslib in /usr/local/lib/python3.7/dist-packages (2.1.1)\n",
            "Requirement already satisfied: numpy>=1.10.0 in /usr/local/lib/python3.7/dist-packages (from nmslib) (1.19.5)\n",
            "Requirement already satisfied: pybind11<2.6.2 in /usr/local/lib/python3.7/dist-packages (from nmslib) (2.6.1)\n",
            "Requirement already satisfied: psutil in /usr/local/lib/python3.7/dist-packages (from nmslib) (5.4.8)\n"
          ]
        }
      ]
    },
    {
      "cell_type": "code",
      "metadata": {
        "colab": {
          "base_uri": "https://localhost:8080/"
        },
        "id": "ai7UP08XVDVh",
        "outputId": "5436b858-a775-4f2f-8899-ade2b40a587b"
      },
      "source": [
        "def load_data():\n",
        "    with open('stack.pickle', 'rb') as f:\n",
        "        data1 = pickle.load(f)\n",
        "    return data1\n",
        "\n",
        "data1 = load_data()\n",
        "data1"
      ],
      "execution_count": 87,
      "outputs": [
        {
          "output_type": "execute_result",
          "data": {
            "text/plain": [
              "{'name': <72360x1246 sparse matrix of type '<class 'numpy.float32'>'\n",
              " \twith 198963 stored elements in Compressed Sparse Row format>,\n",
              " 'vector': array([[ 0.08971766, -0.01931789, -0.39299065, ..., -0.32398626,\n",
              "         -0.04930801,  0.03139853],\n",
              "        [ 0.42719924, -0.13446862, -0.11744323, ...,  0.05327304,\n",
              "         -0.16749631, -0.5094366 ],\n",
              "        [ 0.17469001, -0.3165027 ,  0.34241223, ..., -0.10355807,\n",
              "          0.34335202,  0.18460143],\n",
              "        ...,\n",
              "        [-0.22121345, -0.7440063 ,  0.09974044, ..., -0.08692014,\n",
              "         -0.01444667,  0.30797526],\n",
              "        [ 0.5214379 , -0.11684816,  0.00835054, ...,  0.24716628,\n",
              "          0.33209053, -0.17896186],\n",
              "        [-0.18122649, -0.11276215, -0.02549529, ...,  0.76297367,\n",
              "         -0.30785683, -0.69704616]], dtype=float32)}"
            ]
          },
          "metadata": {},
          "execution_count": 87
        }
      ]
    },
    {
      "cell_type": "code",
      "metadata": {
        "id": "A48jVlddVN5C"
      },
      "source": [
        "class NMSLIBIndex():\n",
        "    def __init__(self, vectors, labels):\n",
        "        self.dimention = vectors.shape[1]\n",
        "        self.vectors = vectors.astype('float32')\n",
        "        self.labels = labels\n",
        "\n",
        "    def build(self):\n",
        "        self.index = nmslib.init(method='hnsw', space='cosinesimil')\n",
        "        self.index.addDataPointBatch(self.vectors)\n",
        "        self.index.createIndex({'post': 2})\n",
        "        \n",
        "    def query(self, vector, k=10):\n",
        "        indices = self.index.knnQuery(vector, k=k)\n",
        "        return [self.labels[i] for i in indices[0]]"
      ],
      "execution_count": 88,
      "outputs": []
    },
    {
      "cell_type": "code",
      "metadata": {
        "id": "W6N5bVwBVP5E"
      },
      "source": [
        "index = NMSLIBIndex(data1[\"vector\"], data1[\"name\"])\n",
        "index.build()"
      ],
      "execution_count": 89,
      "outputs": []
    },
    {
      "cell_type": "code",
      "metadata": {
        "id": "xv-cWhv5VxY5",
        "colab": {
          "base_uri": "https://localhost:8080/",
          "height": 217
        },
        "outputId": "52eb4df7-a8b8-4b07-e1e1-54cb03136e96"
      },
      "source": [
        "stack_vector, stack_name = data1['vector'][90], data1['name'][90]\n",
        "simlar_questions = '\\n* '.join(index.query(stack_vector))\n",
        "similar_questions = '\\n'.join([' '.join([str(x) for i in stack_vector(1,j)]) for j in stack_vector(2,6)])\n",
        "print(f\"The most similar {stack_name} are:\\n* {simlar_questions}\")"
      ],
      "execution_count": 90,
      "outputs": [
        {
          "output_type": "error",
          "ename": "TypeError",
          "evalue": "ignored",
          "traceback": [
            "\u001b[0;31m---------------------------------------------------------------------------\u001b[0m",
            "\u001b[0;31mTypeError\u001b[0m                                 Traceback (most recent call last)",
            "\u001b[0;32m<ipython-input-90-d8d889ef35f7>\u001b[0m in \u001b[0;36m<module>\u001b[0;34m()\u001b[0m\n\u001b[1;32m      1\u001b[0m \u001b[0mstack_vector\u001b[0m\u001b[0;34m,\u001b[0m \u001b[0mstack_name\u001b[0m \u001b[0;34m=\u001b[0m \u001b[0mdata1\u001b[0m\u001b[0;34m[\u001b[0m\u001b[0;34m'vector'\u001b[0m\u001b[0;34m]\u001b[0m\u001b[0;34m[\u001b[0m\u001b[0;36m90\u001b[0m\u001b[0;34m]\u001b[0m\u001b[0;34m,\u001b[0m \u001b[0mdata1\u001b[0m\u001b[0;34m[\u001b[0m\u001b[0;34m'name'\u001b[0m\u001b[0;34m]\u001b[0m\u001b[0;34m[\u001b[0m\u001b[0;36m90\u001b[0m\u001b[0;34m]\u001b[0m\u001b[0;34m\u001b[0m\u001b[0;34m\u001b[0m\u001b[0m\n\u001b[0;32m----> 2\u001b[0;31m \u001b[0msimlar_questions\u001b[0m \u001b[0;34m=\u001b[0m \u001b[0;34m'\\n* '\u001b[0m\u001b[0;34m.\u001b[0m\u001b[0mjoin\u001b[0m\u001b[0;34m(\u001b[0m\u001b[0mindex\u001b[0m\u001b[0;34m.\u001b[0m\u001b[0mquery\u001b[0m\u001b[0;34m(\u001b[0m\u001b[0mstack_vector\u001b[0m\u001b[0;34m)\u001b[0m\u001b[0;34m)\u001b[0m\u001b[0;34m\u001b[0m\u001b[0;34m\u001b[0m\u001b[0m\n\u001b[0m\u001b[1;32m      3\u001b[0m \u001b[0msimilar_questions\u001b[0m \u001b[0;34m=\u001b[0m \u001b[0;34m'\\n'\u001b[0m\u001b[0;34m.\u001b[0m\u001b[0mjoin\u001b[0m\u001b[0;34m(\u001b[0m\u001b[0;34m[\u001b[0m\u001b[0;34m' '\u001b[0m\u001b[0;34m.\u001b[0m\u001b[0mjoin\u001b[0m\u001b[0;34m(\u001b[0m\u001b[0;34m[\u001b[0m\u001b[0mstr\u001b[0m\u001b[0;34m(\u001b[0m\u001b[0mx\u001b[0m\u001b[0;34m)\u001b[0m \u001b[0;32mfor\u001b[0m \u001b[0mi\u001b[0m \u001b[0;32min\u001b[0m \u001b[0mstack_vector\u001b[0m\u001b[0;34m(\u001b[0m\u001b[0;36m1\u001b[0m\u001b[0;34m,\u001b[0m\u001b[0mj\u001b[0m\u001b[0;34m)\u001b[0m\u001b[0;34m]\u001b[0m\u001b[0;34m)\u001b[0m \u001b[0;32mfor\u001b[0m \u001b[0mj\u001b[0m \u001b[0;32min\u001b[0m \u001b[0mstack_vector\u001b[0m\u001b[0;34m(\u001b[0m\u001b[0;36m2\u001b[0m\u001b[0;34m,\u001b[0m\u001b[0;36m6\u001b[0m\u001b[0;34m)\u001b[0m\u001b[0;34m]\u001b[0m\u001b[0;34m)\u001b[0m\u001b[0;34m\u001b[0m\u001b[0;34m\u001b[0m\u001b[0m\n\u001b[1;32m      4\u001b[0m \u001b[0mprint\u001b[0m\u001b[0;34m(\u001b[0m\u001b[0;34mf\"The most similar {stack_name} are:\\n* {simlar_questions}\"\u001b[0m\u001b[0;34m)\u001b[0m\u001b[0;34m\u001b[0m\u001b[0;34m\u001b[0m\u001b[0m\n",
            "\u001b[0;31mTypeError\u001b[0m: sequence item 0: expected str instance, csr_matrix found"
          ]
        }
      ]
    },
    {
      "cell_type": "markdown",
      "metadata": {
        "id": "P3HxCMi0EqTn"
      },
      "source": [
        "Product Quantization"
      ]
    },
    {
      "cell_type": "code",
      "metadata": {
        "id": "QTHueLVqEtuG"
      },
      "source": [
        "class IVPQIndex():\n",
        "    def __init__(self, vectors, labels):\n",
        "        self.dimention = vectors.shape[1]\n",
        "        self.vectors = vectors.astype('float32')\n",
        "        self.labels = labels\n",
        "\n",
        "\n",
        "    def build(self, number_of_partition=8, search_in_x_partitions=2, subvector_size=8):\n",
        "        quantizer = faiss.IndexFlatL2(self.dimention)\n",
        "        self.index = faiss.IndexIVFPQ(quantizer, \n",
        "                                      self.dimention, \n",
        "                                      number_of_partition, \n",
        "                                      search_in_x_partitions, \n",
        "                                      subvector_size)\n",
        "        self.index.train(self.vectors)\n",
        "        self.index.add(self.vectors)\n",
        "        \n",
        "    def query(self, vectors, k=10):\n",
        "        distances, indices = self.index.search(vectors, k) \n",
        "        return [self.labels[i] for i in indices[0]]"
      ],
      "execution_count": null,
      "outputs": []
    },
    {
      "cell_type": "code",
      "metadata": {
        "id": "Tb8vRq20E82G"
      },
      "source": [
        "index = IVPQIndex(data1[\"vector\"], data1[\"name\"])\n",
        "index.build()"
      ],
      "execution_count": null,
      "outputs": []
    },
    {
      "cell_type": "code",
      "metadata": {
        "id": "xt4Wubr1E9fe"
      },
      "source": [
        "stack_index = 90\n",
        "stack_vector = data1['vector'][stack_index:stack_index+1]\n",
        "print(f\"The most similar questions {data1['name']stack_index]} are:\")\n",
        "index.query(stack_vector)"
      ],
      "execution_count": null,
      "outputs": []
    },
    {
      "cell_type": "markdown",
      "metadata": {
        "id": "ifaAh3LSG29w"
      },
      "source": [
        "Trees and Graphs"
      ]
    },
    {
      "cell_type": "code",
      "metadata": {
        "id": "RClT646wHVue"
      },
      "source": [
        "class AnnoyIndex():\n",
        "    def __init__(self, vectors, labels):\n",
        "        self.dimention = vectors.shape[1]\n",
        "        self.vectors = vectors.astype('float32')\n",
        "        self.labels = labels\n",
        "\n",
        "\n",
        "    def build(self, number_of_trees=5):\n",
        "        self.index = annoy.AnnoyIndex(self.dimention)\n",
        "        for i, vec in enumerate(self.vectors):\n",
        "            self.index.add_item(i, vec.tolist())\n",
        "        self.index.build(number_of_trees)\n",
        "        \n",
        "    def query(self, vector, k=10):\n",
        "        indices = self.index.get_nns_by_vector(vector.tolist(), k)\n",
        "        return [self.labels[i] for i in indices]"
      ],
      "execution_count": null,
      "outputs": []
    },
    {
      "cell_type": "code",
      "metadata": {
        "id": "ng5TontXHZik"
      },
      "source": [
        "!pip install annoy\n",
        "import annoy\n",
        "index = AnnoyIndex(data1[\"vector\"], data1[\"name\"])\n",
        "index.build()"
      ],
      "execution_count": null,
      "outputs": []
    },
    {
      "cell_type": "code",
      "metadata": {
        "id": "orKWd2O-HtMU"
      },
      "source": [
        "stack_vector, stack_name = data1['vector'][90], data1['name'][90]\n",
        "simlar_stack_names = '\\n* '.join(index.query(stack_vector))\n",
        "print(f\"The most similar questions to {stack_name} are:\\n* {simlar_stack_names}\")"
      ],
      "execution_count": null,
      "outputs": []
    }
  ]
}