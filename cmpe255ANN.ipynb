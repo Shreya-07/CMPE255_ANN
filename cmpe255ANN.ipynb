{
  "nbformat": 4,
  "nbformat_minor": 0,
  "metadata": {
    "colab": {
      "name": "cmpe255ANN.ipynb",
      "provenance": [],
      "collapsed_sections": [],
      "toc_visible": true,
      "authorship_tag": "ABX9TyP2aP33PzJuIwoj5smxVLFp",
      "include_colab_link": true
    },
    "kernelspec": {
      "name": "python3",
      "display_name": "Python 3"
    },
    "language_info": {
      "name": "python"
    }
  },
  "cells": [
    {
      "cell_type": "markdown",
      "metadata": {
        "id": "view-in-github",
        "colab_type": "text"
      },
      "source": [
        "<a href=\"https://colab.research.google.com/github/Shreya-07/CMPE255_ANN/blob/main/cmpe255ANN.ipynb\" target=\"_parent\"><img src=\"https://colab.research.google.com/assets/colab-badge.svg\" alt=\"Open In Colab\"/></a>"
      ]
    },
    {
      "cell_type": "markdown",
      "metadata": {
        "id": "DX7WGsrwPzje"
      },
      "source": [
        "Preparing the Dataset"
      ]
    },
    {
      "cell_type": "code",
      "metadata": {
        "colab": {
          "base_uri": "https://localhost:8080/"
        },
        "id": "K82HQUtSP9iG",
        "outputId": "0a494388-b28b-4840-98c6-30d28938df50"
      },
      "source": [
        "!pip install lightfm\n",
        "from lightfm import LightFM\n",
        "from lightfm.datasets import fetch_stackexchange\n",
        "import pickle\n",
        "!pip install faiss-cpu\n",
        "import faiss\n"
      ],
      "execution_count": null,
      "outputs": [
        {
          "output_type": "stream",
          "name": "stdout",
          "text": [
            "Requirement already satisfied: lightfm in /usr/local/lib/python3.7/dist-packages (1.16)\n",
            "Requirement already satisfied: numpy in /usr/local/lib/python3.7/dist-packages (from lightfm) (1.19.5)\n",
            "Requirement already satisfied: scipy>=0.17.0 in /usr/local/lib/python3.7/dist-packages (from lightfm) (1.4.1)\n",
            "Requirement already satisfied: requests in /usr/local/lib/python3.7/dist-packages (from lightfm) (2.23.0)\n",
            "Requirement already satisfied: scikit-learn in /usr/local/lib/python3.7/dist-packages (from lightfm) (1.0.1)\n",
            "Requirement already satisfied: chardet<4,>=3.0.2 in /usr/local/lib/python3.7/dist-packages (from requests->lightfm) (3.0.4)\n",
            "Requirement already satisfied: idna<3,>=2.5 in /usr/local/lib/python3.7/dist-packages (from requests->lightfm) (2.10)\n",
            "Requirement already satisfied: certifi>=2017.4.17 in /usr/local/lib/python3.7/dist-packages (from requests->lightfm) (2021.10.8)\n",
            "Requirement already satisfied: urllib3!=1.25.0,!=1.25.1,<1.26,>=1.21.1 in /usr/local/lib/python3.7/dist-packages (from requests->lightfm) (1.24.3)\n",
            "Requirement already satisfied: threadpoolctl>=2.0.0 in /usr/local/lib/python3.7/dist-packages (from scikit-learn->lightfm) (3.0.0)\n",
            "Requirement already satisfied: joblib>=0.11 in /usr/local/lib/python3.7/dist-packages (from scikit-learn->lightfm) (1.1.0)\n",
            "Collecting faiss-cpu\n",
            "  Downloading faiss_cpu-1.7.1.post2-cp37-cp37m-manylinux_2_17_x86_64.manylinux2014_x86_64.whl (8.4 MB)\n",
            "\u001b[K     |████████████████████████████████| 8.4 MB 5.1 MB/s \n",
            "\u001b[?25hInstalling collected packages: faiss-cpu\n",
            "Successfully installed faiss-cpu-1.7.1.post2\n"
          ]
        }
      ]
    },
    {
      "cell_type": "code",
      "metadata": {
        "id": "tDBz-fK-Quij"
      },
      "source": [
        "data = fetch_stackexchange('crossvalidated',\n",
        "                           test_set_fraction=0.1,\n",
        "                           indicator_features=False,\n",
        "                           tag_features=True)\n",
        "\n",
        "train = data['train']\n",
        "test = data['test']\n",
        "\n",
        "model = LightFM(learning_rate=0.05, loss='warp', no_components=64, item_alpha=0.001)\n",
        "model.fit_partial(train, item_features=data['item_features'], epochs=20 )\n",
        "\n",
        "item_vectors = data['item_features'] * model.item_embeddings"
      ],
      "execution_count": null,
      "outputs": []
    },
    {
      "cell_type": "code",
      "metadata": {
        "id": "anm5GgsqSGPP"
      },
      "source": [
        "with open('stack.pickle', 'wb') as f:\n",
        "    pickle.dump({\"name\": data['item_features'], \"vector\": item_vectors}, f)"
      ],
      "execution_count": null,
      "outputs": []
    },
    {
      "cell_type": "markdown",
      "metadata": {
        "id": "WGsd6tSESu7P"
      },
      "source": [
        "LSH - Locality Sensitive Hashing"
      ]
    },
    {
      "cell_type": "code",
      "metadata": {
        "id": "AqQFRpmrT-0R",
        "colab": {
          "base_uri": "https://localhost:8080/"
        },
        "outputId": "9060fc93-67a5-4655-b25c-8f6b0fe26202"
      },
      "source": [
        "def load_data():\n",
        "    with open('stack.pickle', 'rb') as f:\n",
        "        data1 = pickle.load(f)\n",
        "    return data1\n",
        "\n",
        "data1 = load_data()\n",
        "data1"
      ],
      "execution_count": null,
      "outputs": [
        {
          "output_type": "execute_result",
          "data": {
            "text/plain": [
              "{'name': <72360x1246 sparse matrix of type '<class 'numpy.float32'>'\n",
              " \twith 198963 stored elements in Compressed Sparse Row format>,\n",
              " 'vector': array([[-0.31005383, -0.5460872 , -0.06690072, ..., -0.31407112,\n",
              "          0.5473798 , -0.07498293],\n",
              "        [-0.22133675, -0.31808484,  0.12196617, ...,  0.57256573,\n",
              "          0.03614874, -0.25965038],\n",
              "        [ 0.66195554,  0.198521  ,  0.05890319, ...,  0.4117253 ,\n",
              "          0.05028956,  0.04528536],\n",
              "        ...,\n",
              "        [-0.43684655, -0.4595806 , -0.05338642, ..., -0.4427461 ,\n",
              "         -0.09659885,  0.0546329 ],\n",
              "        [ 0.5091615 , -0.2869155 , -0.3321965 , ..., -0.21657251,\n",
              "          0.23571734,  0.03303249],\n",
              "        [-0.767992  , -0.9125018 ,  0.5902929 , ...,  0.03145292,\n",
              "         -0.09047353,  0.06938331]], dtype=float32)}"
            ]
          },
          "metadata": {},
          "execution_count": 41
        }
      ]
    },
    {
      "cell_type": "markdown",
      "metadata": {
        "id": "FjoLVHwiUwTZ"
      },
      "source": [
        "HNSW"
      ]
    },
    {
      "cell_type": "code",
      "metadata": {
        "colab": {
          "base_uri": "https://localhost:8080/"
        },
        "id": "_Pfd4N_pU7Ar",
        "outputId": "95efcd32-1e8c-4c85-9b6f-0ebe9006e9a6"
      },
      "source": [
        "!pip install nmslib\n",
        "import nmslib"
      ],
      "execution_count": null,
      "outputs": [
        {
          "output_type": "stream",
          "name": "stdout",
          "text": [
            "Requirement already satisfied: nmslib in /usr/local/lib/python3.7/dist-packages (2.1.1)\n",
            "Requirement already satisfied: numpy>=1.10.0 in /usr/local/lib/python3.7/dist-packages (from nmslib) (1.19.5)\n",
            "Requirement already satisfied: psutil in /usr/local/lib/python3.7/dist-packages (from nmslib) (5.4.8)\n",
            "Requirement already satisfied: pybind11<2.6.2 in /usr/local/lib/python3.7/dist-packages (from nmslib) (2.6.1)\n"
          ]
        }
      ]
    },
    {
      "cell_type": "code",
      "metadata": {
        "colab": {
          "base_uri": "https://localhost:8080/"
        },
        "id": "ai7UP08XVDVh",
        "outputId": "0562a8a3-abbe-4a46-b587-2d67e1120b34"
      },
      "source": [
        "def load_data():\n",
        "    with open('stack.pickle', 'rb') as f:\n",
        "        data1 = pickle.load(f)\n",
        "    return data1\n",
        "\n",
        "data1 = load_data()\n",
        "data1"
      ],
      "execution_count": null,
      "outputs": [
        {
          "output_type": "execute_result",
          "data": {
            "text/plain": [
              "{'name': <72360x1246 sparse matrix of type '<class 'numpy.float32'>'\n",
              " \twith 198963 stored elements in Compressed Sparse Row format>,\n",
              " 'vector': array([[-0.31005383, -0.5460872 , -0.06690072, ..., -0.31407112,\n",
              "          0.5473798 , -0.07498293],\n",
              "        [-0.22133675, -0.31808484,  0.12196617, ...,  0.57256573,\n",
              "          0.03614874, -0.25965038],\n",
              "        [ 0.66195554,  0.198521  ,  0.05890319, ...,  0.4117253 ,\n",
              "          0.05028956,  0.04528536],\n",
              "        ...,\n",
              "        [-0.43684655, -0.4595806 , -0.05338642, ..., -0.4427461 ,\n",
              "         -0.09659885,  0.0546329 ],\n",
              "        [ 0.5091615 , -0.2869155 , -0.3321965 , ..., -0.21657251,\n",
              "          0.23571734,  0.03303249],\n",
              "        [-0.767992  , -0.9125018 ,  0.5902929 , ...,  0.03145292,\n",
              "         -0.09047353,  0.06938331]], dtype=float32)}"
            ]
          },
          "metadata": {},
          "execution_count": 43
        }
      ]
    },
    {
      "cell_type": "code",
      "metadata": {
        "id": "A48jVlddVN5C"
      },
      "source": [
        "class NMSLIBIndex():\n",
        "    def __init__(self, vectors, labels):\n",
        "        self.dimention = vectors.shape[1]\n",
        "        self.vectors = vectors.astype('float32')\n",
        "        self.labels = labels\n",
        "\n",
        "    def build(self):\n",
        "        self.index = nmslib.init(method='hnsw', space='cosinesimil')\n",
        "        self.index.addDataPointBatch(self.vectors)\n",
        "        self.index.createIndex({'post': 2})\n",
        "        \n",
        "    def query(self, vector, k=10):\n",
        "        indices = self.index.knnQuery(vector, k=k)\n",
        "        return [self.labels[i] for i in indices[0]]"
      ],
      "execution_count": null,
      "outputs": []
    },
    {
      "cell_type": "code",
      "metadata": {
        "id": "W6N5bVwBVP5E"
      },
      "source": [
        "index = NMSLIBIndex(data1[\"vector\"], data1[\"name\"])\n",
        "index.build()"
      ],
      "execution_count": null,
      "outputs": []
    },
    {
      "cell_type": "code",
      "metadata": {
        "id": "xv-cWhv5VxY5"
      },
      "source": [
        "#stack_vector, stack_name = data1['vector'][90], data1['name'][90]\n",
        "#simlar_questions = '\\n* '.join(index.query(stack_vector))\n",
        "#similar_questions = '\\n'.join([' '.join([x for i in stack_vector(1,j)]) for j in stack_vector(2,6)])\n",
        "#print(f\"The most similar {stack_name} are:\\n* {simlar_questions}\")"
      ],
      "execution_count": null,
      "outputs": []
    },
    {
      "cell_type": "markdown",
      "metadata": {
        "id": "P3HxCMi0EqTn"
      },
      "source": [
        "Product Quantization"
      ]
    },
    {
      "cell_type": "code",
      "metadata": {
        "id": "QTHueLVqEtuG"
      },
      "source": [
        "class IVPQIndex():\n",
        "    def __init__(self, vectors, labels):\n",
        "        self.dimention = vectors.shape[1]\n",
        "        self.vectors = vectors.astype('float32')\n",
        "        self.labels = labels\n",
        "\n",
        "\n",
        "    def build(self, number_of_partition=8, search_in_x_partitions=2, subvector_size=8):\n",
        "        quantizer = faiss.IndexFlatL2(self.dimention)\n",
        "        self.index = faiss.IndexIVFPQ(quantizer, \n",
        "                                      self.dimention, \n",
        "                                      number_of_partition, \n",
        "                                      search_in_x_partitions, \n",
        "                                      subvector_size)\n",
        "        self.index.train(self.vectors)\n",
        "        self.index.add(self.vectors)\n",
        "        \n",
        "    def query(self, vectors, k=10):\n",
        "        distances, indices = self.index.search(vectors, k) \n",
        "        return [self.labels[i] for i in indices[0]]"
      ],
      "execution_count": null,
      "outputs": []
    },
    {
      "cell_type": "code",
      "metadata": {
        "id": "Tb8vRq20E82G"
      },
      "source": [
        "index = IVPQIndex(data1[\"vector\"], data1[\"name\"])\n",
        "index.build()"
      ],
      "execution_count": null,
      "outputs": []
    },
    {
      "cell_type": "code",
      "metadata": {
        "colab": {
          "base_uri": "https://localhost:8080/"
        },
        "id": "xt4Wubr1E9fe",
        "outputId": "6b864335-ed80-4c6a-9fe6-d026192f257c"
      },
      "source": [
        "movie_index = 90\n",
        "movie_vector = data1['vector'][movie_index:movie_index+1]\n",
        "print(f\"The most simillar movies to {data1['name'][movie_index]} are:\")\n",
        "index.query(movie_vector)"
      ],
      "execution_count": null,
      "outputs": [
        {
          "output_type": "stream",
          "name": "stdout",
          "text": [
            "The most simillar movies to   (0, 115)\t1.0\n",
            "  (0, 116)\t1.0 are:\n"
          ]
        },
        {
          "output_type": "execute_result",
          "data": {
            "text/plain": [
              "[<1x1246 sparse matrix of type '<class 'numpy.float32'>'\n",
              " \twith 2 stored elements in Compressed Sparse Row format>,\n",
              " <1x1246 sparse matrix of type '<class 'numpy.float32'>'\n",
              " \twith 3 stored elements in Compressed Sparse Row format>,\n",
              " <1x1246 sparse matrix of type '<class 'numpy.float32'>'\n",
              " \twith 2 stored elements in Compressed Sparse Row format>,\n",
              " <1x1246 sparse matrix of type '<class 'numpy.float32'>'\n",
              " \twith 3 stored elements in Compressed Sparse Row format>,\n",
              " <1x1246 sparse matrix of type '<class 'numpy.float32'>'\n",
              " \twith 2 stored elements in Compressed Sparse Row format>,\n",
              " <1x1246 sparse matrix of type '<class 'numpy.float32'>'\n",
              " \twith 2 stored elements in Compressed Sparse Row format>,\n",
              " <1x1246 sparse matrix of type '<class 'numpy.float32'>'\n",
              " \twith 3 stored elements in Compressed Sparse Row format>,\n",
              " <1x1246 sparse matrix of type '<class 'numpy.float32'>'\n",
              " \twith 1 stored elements in Compressed Sparse Row format>,\n",
              " <1x1246 sparse matrix of type '<class 'numpy.float32'>'\n",
              " \twith 2 stored elements in Compressed Sparse Row format>,\n",
              " <1x1246 sparse matrix of type '<class 'numpy.float32'>'\n",
              " \twith 3 stored elements in Compressed Sparse Row format>]"
            ]
          },
          "metadata": {},
          "execution_count": 50
        }
      ]
    },
    {
      "cell_type": "markdown",
      "metadata": {
        "id": "ifaAh3LSG29w"
      },
      "source": [
        "Trees and Graphs"
      ]
    },
    {
      "cell_type": "code",
      "metadata": {
        "id": "RClT646wHVue"
      },
      "source": [
        "class AnnoyIndex():\n",
        "    def __init__(self, vectors, labels):\n",
        "        self.dimention = vectors.shape[1]\n",
        "        self.vectors = vectors.astype('float32')\n",
        "        self.labels = labels\n",
        "\n",
        "\n",
        "    def build(self, number_of_trees=5):\n",
        "        self.index = annoy.AnnoyIndex(self.dimention)\n",
        "        for i, vec in enumerate(self.vectors):\n",
        "            self.index.add_item(i, vec.tolist())\n",
        "        self.index.build(number_of_trees)\n",
        "        \n",
        "    def query(self, vector, k=10):\n",
        "        indices = self.index.get_nns_by_vector(vector.tolist(), k)\n",
        "        return [self.labels[i] for i in indices]"
      ],
      "execution_count": null,
      "outputs": []
    },
    {
      "cell_type": "code",
      "metadata": {
        "colab": {
          "base_uri": "https://localhost:8080/"
        },
        "id": "ng5TontXHZik",
        "outputId": "d0c579fb-f133-42fe-8988-c89fee2607a1"
      },
      "source": [
        "!pip install annoy\n",
        "import annoy\n",
        "index = AnnoyIndex(data1[\"vector\"], data1[\"name\"])\n",
        "index.build()"
      ],
      "execution_count": null,
      "outputs": [
        {
          "output_type": "stream",
          "name": "stdout",
          "text": [
            "Collecting annoy\n",
            "  Downloading annoy-1.17.0.tar.gz (646 kB)\n",
            "\u001b[?25l\r\u001b[K     |▌                               | 10 kB 22.3 MB/s eta 0:00:01\r\u001b[K     |█                               | 20 kB 12.2 MB/s eta 0:00:01\r\u001b[K     |█▌                              | 30 kB 8.0 MB/s eta 0:00:01\r\u001b[K     |██                              | 40 kB 8.4 MB/s eta 0:00:01\r\u001b[K     |██▌                             | 51 kB 5.1 MB/s eta 0:00:01\r\u001b[K     |███                             | 61 kB 5.6 MB/s eta 0:00:01\r\u001b[K     |███▌                            | 71 kB 5.5 MB/s eta 0:00:01\r\u001b[K     |████                            | 81 kB 6.2 MB/s eta 0:00:01\r\u001b[K     |████▋                           | 92 kB 6.0 MB/s eta 0:00:01\r\u001b[K     |█████                           | 102 kB 5.2 MB/s eta 0:00:01\r\u001b[K     |█████▋                          | 112 kB 5.2 MB/s eta 0:00:01\r\u001b[K     |██████                          | 122 kB 5.2 MB/s eta 0:00:01\r\u001b[K     |██████▋                         | 133 kB 5.2 MB/s eta 0:00:01\r\u001b[K     |███████                         | 143 kB 5.2 MB/s eta 0:00:01\r\u001b[K     |███████▋                        | 153 kB 5.2 MB/s eta 0:00:01\r\u001b[K     |████████▏                       | 163 kB 5.2 MB/s eta 0:00:01\r\u001b[K     |████████▋                       | 174 kB 5.2 MB/s eta 0:00:01\r\u001b[K     |█████████▏                      | 184 kB 5.2 MB/s eta 0:00:01\r\u001b[K     |█████████▋                      | 194 kB 5.2 MB/s eta 0:00:01\r\u001b[K     |██████████▏                     | 204 kB 5.2 MB/s eta 0:00:01\r\u001b[K     |██████████▋                     | 215 kB 5.2 MB/s eta 0:00:01\r\u001b[K     |███████████▏                    | 225 kB 5.2 MB/s eta 0:00:01\r\u001b[K     |███████████▋                    | 235 kB 5.2 MB/s eta 0:00:01\r\u001b[K     |████████████▏                   | 245 kB 5.2 MB/s eta 0:00:01\r\u001b[K     |████████████▊                   | 256 kB 5.2 MB/s eta 0:00:01\r\u001b[K     |█████████████▏                  | 266 kB 5.2 MB/s eta 0:00:01\r\u001b[K     |█████████████▊                  | 276 kB 5.2 MB/s eta 0:00:01\r\u001b[K     |██████████████▏                 | 286 kB 5.2 MB/s eta 0:00:01\r\u001b[K     |██████████████▊                 | 296 kB 5.2 MB/s eta 0:00:01\r\u001b[K     |███████████████▏                | 307 kB 5.2 MB/s eta 0:00:01\r\u001b[K     |███████████████▊                | 317 kB 5.2 MB/s eta 0:00:01\r\u001b[K     |████████████████▎               | 327 kB 5.2 MB/s eta 0:00:01\r\u001b[K     |████████████████▊               | 337 kB 5.2 MB/s eta 0:00:01\r\u001b[K     |█████████████████▎              | 348 kB 5.2 MB/s eta 0:00:01\r\u001b[K     |█████████████████▊              | 358 kB 5.2 MB/s eta 0:00:01\r\u001b[K     |██████████████████▎             | 368 kB 5.2 MB/s eta 0:00:01\r\u001b[K     |██████████████████▊             | 378 kB 5.2 MB/s eta 0:00:01\r\u001b[K     |███████████████████▎            | 389 kB 5.2 MB/s eta 0:00:01\r\u001b[K     |███████████████████▊            | 399 kB 5.2 MB/s eta 0:00:01\r\u001b[K     |████████████████████▎           | 409 kB 5.2 MB/s eta 0:00:01\r\u001b[K     |████████████████████▉           | 419 kB 5.2 MB/s eta 0:00:01\r\u001b[K     |█████████████████████▎          | 430 kB 5.2 MB/s eta 0:00:01\r\u001b[K     |█████████████████████▉          | 440 kB 5.2 MB/s eta 0:00:01\r\u001b[K     |██████████████████████▎         | 450 kB 5.2 MB/s eta 0:00:01\r\u001b[K     |██████████████████████▉         | 460 kB 5.2 MB/s eta 0:00:01\r\u001b[K     |███████████████████████▎        | 471 kB 5.2 MB/s eta 0:00:01\r\u001b[K     |███████████████████████▉        | 481 kB 5.2 MB/s eta 0:00:01\r\u001b[K     |████████████████████████▍       | 491 kB 5.2 MB/s eta 0:00:01\r\u001b[K     |████████████████████████▉       | 501 kB 5.2 MB/s eta 0:00:01\r\u001b[K     |█████████████████████████▍      | 512 kB 5.2 MB/s eta 0:00:01\r\u001b[K     |█████████████████████████▉      | 522 kB 5.2 MB/s eta 0:00:01\r\u001b[K     |██████████████████████████▍     | 532 kB 5.2 MB/s eta 0:00:01\r\u001b[K     |██████████████████████████▉     | 542 kB 5.2 MB/s eta 0:00:01\r\u001b[K     |███████████████████████████▍    | 552 kB 5.2 MB/s eta 0:00:01\r\u001b[K     |███████████████████████████▉    | 563 kB 5.2 MB/s eta 0:00:01\r\u001b[K     |████████████████████████████▍   | 573 kB 5.2 MB/s eta 0:00:01\r\u001b[K     |█████████████████████████████   | 583 kB 5.2 MB/s eta 0:00:01\r\u001b[K     |█████████████████████████████▍  | 593 kB 5.2 MB/s eta 0:00:01\r\u001b[K     |██████████████████████████████  | 604 kB 5.2 MB/s eta 0:00:01\r\u001b[K     |██████████████████████████████▍ | 614 kB 5.2 MB/s eta 0:00:01\r\u001b[K     |███████████████████████████████ | 624 kB 5.2 MB/s eta 0:00:01\r\u001b[K     |███████████████████████████████▍| 634 kB 5.2 MB/s eta 0:00:01\r\u001b[K     |████████████████████████████████| 645 kB 5.2 MB/s eta 0:00:01\r\u001b[K     |████████████████████████████████| 646 kB 5.2 MB/s \n",
            "\u001b[?25hBuilding wheels for collected packages: annoy\n",
            "  Building wheel for annoy (setup.py) ... \u001b[?25l\u001b[?25hdone\n",
            "  Created wheel for annoy: filename=annoy-1.17.0-cp37-cp37m-linux_x86_64.whl size=391675 sha256=3c5570aae0a76c3b699cf38f959a8b75244e5abc59d369b617282b23f2ef8be2\n",
            "  Stored in directory: /root/.cache/pip/wheels/4f/e8/1e/7cc9ebbfa87a3b9f8ba79408d4d31831d67eea918b679a4c07\n",
            "Successfully built annoy\n",
            "Installing collected packages: annoy\n",
            "Successfully installed annoy-1.17.0\n"
          ]
        },
        {
          "output_type": "stream",
          "name": "stderr",
          "text": [
            "/usr/local/lib/python3.7/dist-packages/ipykernel_launcher.py:9: FutureWarning: The default argument for metric will be removed in future version of Annoy. Please pass metric='angular' explicitly.\n",
            "  if __name__ == '__main__':\n"
          ]
        }
      ]
    },
    {
      "cell_type": "code",
      "metadata": {
        "colab": {
          "base_uri": "https://localhost:8080/",
          "height": 200
        },
        "id": "orKWd2O-HtMU",
        "outputId": "079111ac-d5f1-42d4-fb75-fa8e4dfd87cb"
      },
      "source": [
        "movie_vector, movie_name = data1['vector'][90], data1['name'][90]\n",
        "simlar_movies_names = '\\n* '.join(index.query(movie_vector))\n",
        "print(f\"The most similar movies to {movie_name} are:\\n* {simlar_movies_names}\")"
      ],
      "execution_count": null,
      "outputs": [
        {
          "output_type": "error",
          "ename": "TypeError",
          "evalue": "ignored",
          "traceback": [
            "\u001b[0;31m---------------------------------------------------------------------------\u001b[0m",
            "\u001b[0;31mTypeError\u001b[0m                                 Traceback (most recent call last)",
            "\u001b[0;32m<ipython-input-55-c765f6167fd5>\u001b[0m in \u001b[0;36m<module>\u001b[0;34m()\u001b[0m\n\u001b[1;32m      1\u001b[0m \u001b[0mmovie_vector\u001b[0m\u001b[0;34m,\u001b[0m \u001b[0mmovie_name\u001b[0m \u001b[0;34m=\u001b[0m \u001b[0mdata1\u001b[0m\u001b[0;34m[\u001b[0m\u001b[0;34m'vector'\u001b[0m\u001b[0;34m]\u001b[0m\u001b[0;34m[\u001b[0m\u001b[0;36m90\u001b[0m\u001b[0;34m]\u001b[0m\u001b[0;34m,\u001b[0m \u001b[0mdata1\u001b[0m\u001b[0;34m[\u001b[0m\u001b[0;34m'name'\u001b[0m\u001b[0;34m]\u001b[0m\u001b[0;34m[\u001b[0m\u001b[0;36m90\u001b[0m\u001b[0;34m]\u001b[0m\u001b[0;34m\u001b[0m\u001b[0;34m\u001b[0m\u001b[0m\n\u001b[0;32m----> 2\u001b[0;31m \u001b[0msimlar_movies_names\u001b[0m \u001b[0;34m=\u001b[0m \u001b[0;34m'\\n* '\u001b[0m\u001b[0;34m.\u001b[0m\u001b[0mjoin\u001b[0m\u001b[0;34m(\u001b[0m\u001b[0mindex\u001b[0m\u001b[0;34m.\u001b[0m\u001b[0mquery\u001b[0m\u001b[0;34m(\u001b[0m\u001b[0mmovie_vector\u001b[0m\u001b[0;34m)\u001b[0m\u001b[0;34m)\u001b[0m\u001b[0;34m\u001b[0m\u001b[0;34m\u001b[0m\u001b[0m\n\u001b[0m\u001b[1;32m      3\u001b[0m \u001b[0mprint\u001b[0m\u001b[0;34m(\u001b[0m\u001b[0;34mf\"The most similar movies to {movie_name} are:\\n* {simlar_movies_names}\"\u001b[0m\u001b[0;34m)\u001b[0m\u001b[0;34m\u001b[0m\u001b[0;34m\u001b[0m\u001b[0m\n",
            "\u001b[0;31mTypeError\u001b[0m: sequence item 0: expected str instance, csr_matrix found"
          ]
        }
      ]
    }
  ]
}